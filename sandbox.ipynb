{
 "cells": [
  {
   "cell_type": "code",
   "execution_count": null,
   "metadata": {},
   "outputs": [
    {
     "data": {
      "text/plain": [
       "<pandas.core.groupby.generic.SeriesGroupBy object at 0x11213d810>"
      ]
     },
     "metadata": {},
     "output_type": "display_data"
    }
   ],
   "source": [
    "import pandas as pd\n",
    "from bokeh.plotting import figure, show\n",
    "\n",
    "usa_census = pd.read_csv(\n",
    "    './data/USA/DECENNIALDDHCA2020.T01001_2024-12-15T154541/DECENNIALDDHCA2020.T01001-Data.csv'\n",
    ")\n",
    "\n",
    "usa_census.drop(index=usa_census.index[0], axis=0, inplace=True)\n",
    "\n",
    "usa_census.drop(usa_census.columns[5], axis=1, inplace=True)\n",
    "\n",
    "usa_census['in_any_combination'] = usa_census['POPGROUP_LABEL'].match('in any combination')\n",
    "\n",
    "display(usa_census.groupby(by='POPGROUP_LABEL')['POPGROUP_LABEL'])\n",
    "\n",
    "# p = figure(title=\"Hello Plot!\", x_axis_label='blah', y_axis_label='foo')\n"
   ]
  },
  {
   "cell_type": "code",
   "execution_count": null,
   "metadata": {},
   "outputs": [],
   "source": []
  }
 ],
 "metadata": {
  "kernelspec": {
   "display_name": "Python 3",
   "language": "python",
   "name": "python3"
  },
  "language_info": {
   "codemirror_mode": {
    "name": "ipython",
    "version": 3
   },
   "file_extension": ".py",
   "mimetype": "text/x-python",
   "name": "python",
   "nbconvert_exporter": "python",
   "pygments_lexer": "ipython3",
   "version": "3.13.1"
  }
 },
 "nbformat": 4,
 "nbformat_minor": 2
}
